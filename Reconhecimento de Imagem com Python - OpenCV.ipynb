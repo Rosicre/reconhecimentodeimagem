{
 "cells": [
  {
   "cell_type": "code",
   "execution_count": 12,
   "metadata": {},
   "outputs": [],
   "source": [
    "import cv2\n",
    "import mediapipe as mp\n",
    "\n",
    "# vincular a webcam ao python\n",
    "webcam = cv2.VideoCapture() # cria a conexão com a webcam\n",
    "\n",
    "# inicializando o mediapipe\n",
    "reconhecimento_maos = mp.solutions.hands\n",
    "desenho_mp = mp.solutions.drawing_utils\n",
    "maos = reconhecimento_maos.Hands()\n",
    "\n",
    "#print(webcam.read())\n",
    "# O que aconteceria se ele não tivesse conseguido conectar com a webcam?\n",
    "if webcam.isOpened():\n",
    "    # vou ler a minha webcam (webcam.read())\n",
    "    validacao, frame = webcam.read()\n",
    "    # segundo problema -> entender o que é webcam.read() -> temos que fazer ele pegar vários frames\n",
    "    # loop infinito \n",
    "    while validacao:\n",
    "        # pegar o próximo frame da tela\n",
    "        validacao, frame = webcam.read()\n",
    "\n",
    "        # Converte BGR ( Padrão do opencv ) em RGB ( Padrão do mediapipe).\n",
    "        frameRGB = cv2.cvtColor(frame, cv2.COLOR_BGR2RGB)\n",
    "\n",
    "        # Desenhar a mão.\n",
    "        lista_maos = maos.process(frameRGB)\n",
    "        if lista_maos.multi_hand_landmarks:\n",
    "            for mao in lista_maos.multi_hand_landmarks:\n",
    "                desenho_mp.draw_landmarks(frame, mao, reconhecimento_maos.HAND_CONNECTIONS)\n",
    "\n",
    "        # mostrar o frame da webcam que o python esta vendo.\n",
    "        cv2.imshow(\"Video da Webcam\", frame)\n",
    "        # mandar o python esperar um pouquinho. - > De um jeito inteligente.\n",
    "        tecla = cv2.waitKey(2)\n",
    "        # mandar ele parar o código se eu clicar no ESC\n",
    "        if tecla == 27:\n",
    "            break\n",
    "\n",
    "\n",
    "\n",
    "\n",
    "# inicializando o mediapipe\n",
    "\n",
    "webcam.release()\n",
    "cv2.destroyAllWindows()"
   ]
  },
  {
   "cell_type": "code",
   "execution_count": null,
   "metadata": {},
   "outputs": [],
   "source": []
  }
 ],
 "metadata": {
  "interpreter": {
   "hash": "c469c999aae2bf6d578d6881606ced546d1546d312a4811937df5b24665ee8bc"
  },
  "kernelspec": {
   "display_name": "Python 3.9.7 ('base')",
   "language": "python",
   "name": "python3"
  },
  "language_info": {
   "codemirror_mode": {
    "name": "ipython",
    "version": 3
   },
   "file_extension": ".py",
   "mimetype": "text/x-python",
   "name": "python",
   "nbconvert_exporter": "python",
   "pygments_lexer": "ipython3",
   "version": "3.9.7"
  },
  "orig_nbformat": 4
 },
 "nbformat": 4,
 "nbformat_minor": 2
}
